{
 "cells": [
  {
   "cell_type": "code",
   "execution_count": 73,
   "metadata": {},
   "outputs": [
    {
     "data": {
      "text/plain": [
       "array([[203, 203, 203],\n",
       "       [222, 222, 222],\n",
       "       [221, 221, 221],\n",
       "       ...,\n",
       "       [224, 224, 224],\n",
       "       [228, 228, 228],\n",
       "       [205, 205, 205]])"
      ]
     },
     "execution_count": 73,
     "metadata": {},
     "output_type": "execute_result"
    }
   ],
   "source": [
    "from PIL import Image\n",
    "import numpy as np\n",
    "\n",
    "img = Image.open('t2p24.jpg')   # 使用 PIL 打开图片\n",
    "data1 = img.getdata()   # 获取图片的数据信息 class <'ImagingCore'>\n",
    "data1 = np.array(data1)   # 把这个数据通过 numpy 转换成多维度的张量\n"
   ]
  },
  {
   "cell_type": "code",
   "execution_count": null,
   "metadata": {},
   "outputs": [],
   "source": []
  },
  {
   "cell_type": "markdown",
   "metadata": {},
   "source": [
    "这个本来该3维的张量变成2维\n",
    "n行m列 \n",
    "n:0-99\n",
    "\n",
    "[n][m]=[ 100*n+m ]\n"
   ]
  },
  {
   "cell_type": "code",
   "execution_count": 75,
   "metadata": {},
   "outputs": [],
   "source": [
    "data=np.zeros(100).reshape(10,10)"
   ]
  },
  {
   "cell_type": "markdown",
   "metadata": {},
   "source": [
    "判断这个格子是不是黑的（i，j）\n",
    "        cnt=0\n",
    "        for ii in range(100):\n",
    "            for jj in range(100):\n",
    "                a1=data1[ 100*(i*10+i)+(j*10+j),0 ]\n",
    "                a2=data1[ 100*(i*10+i)+(j*10+j),1 ]\n",
    "                a3=data1[ 100*(i*10+i)+(j*10+j),2 ]\n",
    "                \n",
    "                if( abs(a1-a2)>10 or abs(a1-a3)>10 or abs(a2-a3)>10 ):\n",
    "                    cnt+=1\n",
    "        if(cnt>50):\n",
    "            data[i,j]=1\n",
    "        else:\n",
    "            data[i,j]=0\n"
   ]
  },
  {
   "cell_type": "code",
   "execution_count": 77,
   "metadata": {},
   "outputs": [
    {
     "data": {
      "text/plain": [
       "array([[0., 0., 0., 0., 0., 0., 0., 0., 0., 0.],\n",
       "       [0., 0., 0., 0., 0., 0., 0., 0., 0., 0.],\n",
       "       [0., 0., 0., 1., 1., 0., 1., 1., 0., 0.],\n",
       "       [0., 0., 0., 1., 1., 0., 0., 0., 0., 0.],\n",
       "       [0., 1., 1., 0., 1., 0., 0., 0., 0., 0.],\n",
       "       [0., 0., 0., 0., 0., 0., 1., 0., 0., 0.],\n",
       "       [0., 0., 1., 1., 0., 1., 1., 1., 0., 0.],\n",
       "       [0., 0., 1., 1., 0., 1., 1., 0., 0., 0.],\n",
       "       [0., 0., 1., 0., 0., 0., 0., 0., 0., 0.],\n",
       "       [0., 0., 0., 0., 0., 0., 0., 0., 0., 0.]])"
      ]
     },
     "execution_count": 77,
     "metadata": {},
     "output_type": "execute_result"
    }
   ],
   "source": [
    "data"
   ]
  },
  {
   "cell_type": "markdown",
   "metadata": {},
   "source": [
    "输出"
   ]
  },
  {
   "cell_type": "code",
   "execution_count": 78,
   "metadata": {},
   "outputs": [],
   "source": [
    "import pandas as pd\n",
    "writer = pd.ExcelWriter('transform2.xlsx')\n",
    "data_df = pd.DataFrame(data)   #关键1，将ndarray格式转换为DataFrame\n",
    "\n",
    "# 更改表的索引\n",
    "data_df.columns = ['1','2','3','4','5','6','7','8','9','10']  #将第一行的0,1,2,...,9变成A,B,C,...,J\n",
    "data_df.index = ['1','2','3','4','5','6','7','8','9','10']\n",
    "data_df.to_excel(writer,'page_1',float_format='%.5f')  #关键3，float_format 控制精度，将data_df写到hhh表格的第一页中。若多个文件，可以在page_2中写入\n",
    "writer.save()  #关键4"
   ]
  },
  {
   "cell_type": "code",
   "execution_count": null,
   "metadata": {},
   "outputs": [],
   "source": []
  },
  {
   "cell_type": "code",
   "execution_count": null,
   "metadata": {},
   "outputs": [],
   "source": []
  },
  {
   "cell_type": "code",
   "execution_count": null,
   "metadata": {},
   "outputs": [],
   "source": []
  }
 ],
 "metadata": {
  "kernelspec": {
   "display_name": "Python 3",
   "language": "python",
   "name": "python3"
  },
  "language_info": {
   "codemirror_mode": {
    "name": "ipython",
    "version": 3
   },
   "file_extension": ".py",
   "mimetype": "text/x-python",
   "name": "python",
   "nbconvert_exporter": "python",
   "pygments_lexer": "ipython3",
   "version": "3.8.5"
  }
 },
 "nbformat": 4,
 "nbformat_minor": 4
}
